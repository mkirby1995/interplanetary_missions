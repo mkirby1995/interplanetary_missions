{
 "cells": [
  {
   "cell_type": "markdown",
   "metadata": {},
   "source": [
    "# How Long to Buid a Settlement on Mars"
   ]
  },
  {
   "cell_type": "markdown",
   "metadata": {},
   "source": [
    "This basically comes down to three questions\n",
    "\n",
    "1. How much crap do we need on the surface?\n",
    "2. How good is our ship and how many do we have?\n",
    "3. How many launch oppurtunities do we have?"
   ]
  },
  {
   "cell_type": "markdown",
   "metadata": {},
   "source": [
    "## How much crap do we need to put on the surface?\n",
    "\n",
    "To simplifiy this part we will be using mass/settler as our base measure for calculation. A good terresterial analog we can use to obtain this measure is an aircraft carrier. This comes out to 17 tons per settler, or 17 * 100,000 = 1,700,000 tons for the whole settlement.\n",
    "\n",
    "## How good is our ship and how many do we have?\n",
    "\n",
    "Our ship is the Space X Starship with a payload mass of 150 tons. We will assume we have a fleet of 200.\n",
    "\n",
    "## How many launch oppurtunities do we have?\n",
    "\n",
    "This is dependant on where we want to go, Mars in this case, and how much delta v our ship can provide"
   ]
  },
  {
   "cell_type": "code",
   "execution_count": 1,
   "metadata": {},
   "outputs": [],
   "source": [
    "import pygmo as pg\n",
    "import pykep as pk\n",
    "import numpy as np\n",
    "import pandas as pd\n",
    "from matplotlib import pyplot as plt"
   ]
  },
  {
   "cell_type": "markdown",
   "metadata": {},
   "source": [
    "## Define a date range for our problem"
   ]
  },
  {
   "cell_type": "code",
   "execution_count": 6,
   "metadata": {},
   "outputs": [],
   "source": [
    "start_date = 7305.0 \n",
    "end_date = 7671.0\n",
    "intervals = 1.0\n",
    "start_epochs = np.arange(start_date, end_date, intervals)\n",
    "#start_epochs"
   ]
  },
  {
   "cell_type": "code",
   "execution_count": 7,
   "metadata": {},
   "outputs": [
    {
     "data": {
      "text/plain": [
       "(numpy.datetime64('2020-01-01T00:00:00.000000000'),\n",
       " numpy.datetime64('2020-12-31T00:00:00.000000000'))"
      ]
     },
     "execution_count": 7,
     "metadata": {},
     "output_type": "execute_result"
    }
   ],
   "source": [
    "date_range = pd.to_datetime(start_epochs, unit='d', origin=pd.Timestamp('2000-01-01'))\n",
    "date_range.values[0], date_range.values[-1]"
   ]
  },
  {
   "cell_type": "markdown",
   "metadata": {},
   "source": [
    "## Set the range of our problem (Time of Flight)"
   ]
  },
  {
   "cell_type": "code",
   "execution_count": 219,
   "metadata": {},
   "outputs": [
    {
     "data": {
      "text/plain": [
       "array([  0.,   1.,   2.,   3.,   4.,   5.,   6.,   7.,   8.,   9.,  10.,\n",
       "        11.,  12.,  13.,  14.,  15.,  16.,  17.,  18.,  19.,  20.,  21.,\n",
       "        22.,  23.,  24.,  25.,  26.,  27.,  28.,  29.,  30.,  31.,  32.,\n",
       "        33.,  34.,  35.,  36.,  37.,  38.,  39.,  40.,  41.,  42.,  43.,\n",
       "        44.,  45.,  46.,  47.,  48.,  49.,  50.,  51.,  52.,  53.,  54.,\n",
       "        55.,  56.,  57.,  58.,  59.,  60.,  61.,  62.,  63.,  64.,  65.,\n",
       "        66.,  67.,  68.,  69.,  70.,  71.,  72.,  73.,  74.,  75.,  76.,\n",
       "        77.,  78.,  79.,  80.,  81.,  82.,  83.,  84.,  85.,  86.,  87.,\n",
       "        88.,  89.,  90.,  91.,  92.,  93.,  94.,  95.,  96.,  97.,  98.,\n",
       "        99., 100., 101., 102., 103., 104., 105., 106., 107., 108., 109.,\n",
       "       110., 111., 112., 113., 114., 115., 116., 117., 118., 119., 120.,\n",
       "       121., 122., 123., 124., 125., 126., 127., 128., 129., 130., 131.,\n",
       "       132., 133., 134., 135., 136., 137., 138., 139., 140., 141., 142.,\n",
       "       143., 144., 145., 146., 147., 148., 149., 150., 151., 152., 153.,\n",
       "       154., 155., 156., 157., 158., 159., 160., 161., 162., 163., 164.,\n",
       "       165., 166., 167., 168., 169., 170., 171., 172., 173., 174., 175.,\n",
       "       176., 177., 178., 179., 180., 181., 182., 183., 184., 185., 186.,\n",
       "       187., 188., 189., 190., 191., 192., 193., 194., 195., 196., 197.,\n",
       "       198., 199., 200., 201., 202., 203., 204., 205., 206., 207., 208.,\n",
       "       209., 210., 211., 212., 213., 214., 215., 216., 217., 218., 219.,\n",
       "       220., 221., 222., 223., 224., 225., 226., 227., 228., 229., 230.,\n",
       "       231., 232., 233., 234., 235., 236., 237., 238., 239., 240., 241.,\n",
       "       242., 243., 244., 245., 246., 247., 248., 249.])"
      ]
     },
     "execution_count": 219,
     "metadata": {},
     "output_type": "execute_result"
    }
   ],
   "source": [
    "max_tof = 250.0\n",
    "\n",
    "duration = np.arange(0.0, max_tof, 1.0)\n",
    "duration"
   ]
  },
  {
   "cell_type": "markdown",
   "metadata": {},
   "source": [
    "## Initialize Planet objects from pykep"
   ]
  },
  {
   "cell_type": "code",
   "execution_count": 220,
   "metadata": {},
   "outputs": [],
   "source": [
    "earth = pk.planet.jpl_lp('earth')\n",
    "mars = pk.planet.jpl_lp('mars')"
   ]
  },
  {
   "cell_type": "markdown",
   "metadata": {},
   "source": [
    "## Solve Lambert Problem for each launch_date and time of flight"
   ]
  },
  {
   "cell_type": "code",
   "execution_count": 221,
   "metadata": {},
   "outputs": [],
   "source": [
    "data = list()\n",
    "\n",
    "for start in start_epochs:\n",
    "    row = list()\n",
    "    \n",
    "    for tof in duration:\n",
    "        \n",
    "        pos_1, v1 = earth.eph(pk.epoch(start, 'mjd2000'))\n",
    "        pos_2, v2 = mars.eph(pk.epoch(start + tof, 'mjd2000'))\n",
    "        \n",
    "        seconds_elapsed = tof * 60 * 60 * 24 if tof > 0 else 1 * 60 *60 * 24\n",
    "        \n",
    "        l = pk.lambert_problem(pos_1, pos_2, seconds_elapsed, pk.MU_SUN)\n",
    "        \n",
    "        DV1 = np.linalg.norm(np.array(v1) - np.array(l.get_v1()[0]) )\n",
    "        DV2 = np.linalg.norm(np.array(v2) - np.array(l.get_v2()[0]) )\n",
    "        \n",
    "        DV1 = max([0, DV1 - 4000])\n",
    "        DV = DV1+DV2\n",
    "        \n",
    "        row.append(DV)\n",
    "        \n",
    "    data.append(row)"
   ]
  },
  {
   "cell_type": "code",
   "execution_count": 222,
   "metadata": {},
   "outputs": [
    {
     "data": {
      "text/plain": [
       "(3654, 250)"
      ]
     },
     "execution_count": 222,
     "metadata": {},
     "output_type": "execute_result"
    }
   ],
   "source": [
    "len(data), len(data[0])"
   ]
  },
  {
   "cell_type": "markdown",
   "metadata": {},
   "source": [
    "# Finding our optimal launch oppurtunity"
   ]
  },
  {
   "cell_type": "code",
   "execution_count": 223,
   "metadata": {},
   "outputs": [
    {
     "name": "stdout",
     "output_type": "stream",
     "text": [
      "Best DV: 2.485198098079823 Km/s\n",
      "Launch date: 2020-Aug-05 00:00:00\n",
      "Duration (days): 207.0\n"
     ]
    }
   ],
   "source": [
    "minrows = [min(l) for l in data]\n",
    "i_idx = np.argmin(minrows) # Index of minimum value\n",
    "j_idx = np.argmin(data[i_idx])\n",
    "best = data[i_idx][j_idx] / 1000\n",
    "\n",
    "\n",
    "print(\"Best DV: \" + str(best) + \" Km/s\")\n",
    "print(\"Launch date: \" +  str(pk.epoch(int(start_epochs[i_idx]))))\n",
    "print(\"Duration (days): \" +  str(duration[j_idx]))"
   ]
  },
  {
   "cell_type": "code",
   "execution_count": 224,
   "metadata": {},
   "outputs": [
    {
     "data": {
      "text/plain": [
       "2485.198098079823"
      ]
     },
     "execution_count": 224,
     "metadata": {},
     "output_type": "execute_result"
    }
   ],
   "source": [
    "data[i_idx][j_idx]"
   ]
  },
  {
   "cell_type": "code",
   "execution_count": null,
   "metadata": {},
   "outputs": [],
   "source": [
    "data[0]"
   ]
  },
  {
   "cell_type": "markdown",
   "metadata": {},
   "source": [
    "# Finding less than optimal oppurtunities"
   ]
  },
  {
   "cell_type": "code",
   "execution_count": 208,
   "metadata": {},
   "outputs": [
    {
     "data": {
      "image/png": "[encoded data removed]",
      "text/plain": [
       "<Figure size 1332x756 with 2 Axes>"
      ]
     },
     "metadata": {
      "needs_background": "light"
     },
     "output_type": "display_data"
    }
   ],
   "source": [
    "duration_pl, start_epochs_pl = np.meshgrid(duration, start_epochs)\n",
    "plt.contour(start_epochs_pl,\n",
    "            duration_pl,\n",
    "            np.array(data),\n",
    "            levels = list(np.linspace(best, threshold, 15)),\n",
    "            cmap = 'cool')\n",
    "\n",
    "plt.colorbar()\n",
    "fig = plt.gcf()\n",
    "fig.set_size_inches(18.5, 10.5)\n",
    "plt.xlabel('Departure Date')\n",
    "plt.ylabel('Time of Flight (Days)')\n",
    "new_labels = [str(i)[:10] for i in pd.to_datetime(plt.xticks()[0], unit='d', origin=pd.Timestamp('2000-01-01')).values]\n",
    "plt.xticks(ticks = plt.xticks()[0], labels = new_labels)\n",
    "plt.xlim(start_date, end_date)\n",
    "plt.ylim(0, max_tof)\n",
    "plt.show()"
   ]
  },
  {
   "cell_type": "code",
   "execution_count": null,
   "metadata": {},
   "outputs": [],
   "source": []
  },
  {
   "cell_type": "code",
   "execution_count": 246,
   "metadata": {},
   "outputs": [],
   "source": [
    "def launch_dates(start_date, end_date, max_tof, dv_thresh):\n",
    "    \n",
    "    start_epochs = np.arange(start_date, end_date, 1)\n",
    "    duration = np.arange(0.0, max_tof, 1.0)\n",
    "    \n",
    "    earth = pk.planet.jpl_lp('earth')\n",
    "    mars = pk.planet.jpl_lp('mars')\n",
    "    \n",
    "    l_probs = {}\n",
    "    \n",
    "    data = list()\n",
    "\n",
    "    for start in start_epochs:\n",
    "        row = list()\n",
    "\n",
    "        for tof in duration:\n",
    "\n",
    "            pos_1, v1 = earth.eph(pk.epoch(start, 'mjd2000'))\n",
    "            pos_2, v2 = mars.eph(pk.epoch(start + tof, 'mjd2000'))\n",
    "\n",
    "            seconds_elapsed = tof * 60 * 60 * 24 if tof > 0 else 1 * 60 *60 * 24\n",
    "\n",
    "            l = pk.lambert_problem(pos_1, pos_2, seconds_elapsed, pk.MU_SUN)\n",
    "\n",
    "            DV1 = np.linalg.norm(np.array(v1) - np.array(l.get_v1()[0]) )\n",
    "            DV2 = np.linalg.norm(np.array(v2) - np.array(l.get_v2()[0]) )\n",
    "\n",
    "            DV1 = max([0, DV1 - 4000])\n",
    "            DV = DV1+DV2\n",
    "\n",
    "            row.append(DV)\n",
    "\n",
    "        data.append(row)\n",
    "    \n",
    "    launch_epochs = set()\n",
    "    combos = []\n",
    "\n",
    "    for i in np.argwhere(np.array(data) < dv_thresh):\n",
    "        launch_epochs.add(start_epochs[i[0]])\n",
    "        launch_date = start_epochs[i[0]]\n",
    "        tof = duration[i[1]]\n",
    "        delta_v = data[i[0]][i[1]]\n",
    "        combos.append((launch_date, tof, delta_v))\n",
    "    \n",
    "    return launch_epochs, combos"
   ]
  },
  {
   "cell_type": "code",
   "execution_count": 247,
   "metadata": {},
   "outputs": [],
   "source": [
    "start_date = 7305.0 \n",
    "end_date = 10959.0\n",
    "max_tof = 300\n",
    "dv_thresh = 5000\n",
    "\n",
    "dates, combos = launch_dates(start_date, end_date, max_tof, dv_thresh)"
   ]
  },
  {
   "cell_type": "code",
   "execution_count": 248,
   "metadata": {},
   "outputs": [
    {
     "data": {
      "text/plain": [
       "(569, (7424.0, 239.0, 4995.117690153212))"
      ]
     },
     "execution_count": 248,
     "metadata": {},
     "output_type": "execute_result"
    }
   ],
   "source": [
    "len(dates), combos[0]"
   ]
  },
  {
   "cell_type": "code",
   "execution_count": 236,
   "metadata": {},
   "outputs": [],
   "source": [
    "start = combos[0][0]\n",
    "tof = combos[0][1]\n",
    "\n",
    "pos_1, v1 = earth.eph(pk.epoch(start, 'mjd2000'))\n",
    "pos_2, v2 = mars.eph(pk.epoch(start + tof, 'mjd2000'))\n",
    "\n",
    "seconds_elapsed = tof * 60 * 60 * 24 if tof > 0 else 1 * 60 *60 * 24\n",
    "\n",
    "l = pk.lambert_problem(pos_1, pos_2, seconds_elapsed, pk.MU_SUN)"
   ]
  }
 ],
 "metadata": {
  "kernelspec": {
   "display_name": "mars_plots",
   "language": "python",
   "name": "mars_plots"
  },
  "language_info": {
   "codemirror_mode": {
    "name": "ipython",
    "version": 3
   },
   "file_extension": ".py",
   "mimetype": "text/x-python",
   "name": "python",
   "nbconvert_exporter": "python",
   "pygments_lexer": "ipython3",
   "version": "3.8.2"
  }
 },
 "nbformat": 4,
 "nbformat_minor": 4
}
