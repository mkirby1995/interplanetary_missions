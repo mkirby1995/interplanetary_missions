{
 "cells": [
  {
   "cell_type": "markdown",
   "metadata": {},
   "source": [
    "Going to Mars\n",
    "=====\n",
    "#####Version 0.1\n",
    "In this Tutorial we will explore a Mars mission of a chemically propelled spacecraft that can use a launcher delivering up to 4 km/s departure $\\Delta V$. We will model this mission using an MGA-1DSM trajectory model. First we look at a direct transfer, then we will try to investigate how fly-bys change things.\n"
   ]
  },
  {
   "cell_type": "markdown",
   "metadata": {},
   "source": [
    "### Import statments\n",
    "***"
   ]
  },
  {
   "cell_type": "markdown",
   "metadata": {},
   "source": [
    "Both PyGMO and PyKEP are imported in the main namespace, while matplotlib is imported as plt. This is our suggested mode to work with PyGMO and PyKEP as they do not contain many symbols, thus the root namesace does not get overflowed"
   ]
  },
  {
   "cell_type": "code",
   "execution_count": 4,
   "metadata": {
    "collapsed": false,
    "jupyter": {
     "outputs_hidden": false
    }
   },
   "outputs": [],
   "source": [
    "import pygmo as pg\n",
    "import pykep as pk\n",
    "from matplotlib import pyplot as plt"
   ]
  },
  {
   "cell_type": "markdown",
   "metadata": {},
   "source": [
    "### Direct Transfer\n",
    "***"
   ]
  },
  {
   "cell_type": "markdown",
   "metadata": {},
   "source": [
    "We start by looking into a direct transfer. A direct transfer is a trajectory that directly transfers the spacecarft from the Earth to Mars without 'visiting' other planets on its way. We define the *encounter sequence* as a list of planets. We use PyKEP planet_ss (ss stands for solar system) object for convenience as both Earth and Mars are already defined there. The ephemerides computations will then be performed using a simplified interpolated mode which is fairly accurate in the chosen timeframe."
   ]
  },
  {
   "cell_type": "code",
   "execution_count": 5,
   "metadata": {
    "collapsed": false,
    "jupyter": {
     "outputs_hidden": false
    }
   },
   "outputs": [],
   "source": [
    "seq = [pk.planet.jpl_lp('earth'), pk.planet.jpl_lp('mars')]"
   ]
  },
  {
   "cell_type": "markdown",
   "metadata": {},
   "source": [
    "We then define the *launch window*, that is the allowed dates for the launch. This will be a list of two PyKEP epoch objects. We construct the epochs using the Modified Julian Date 2000, then print to screen the epochs so that we get to see the dates in a more readable format. We also define the *time of flight* as a list of upper and lower bounds on each leg duration (in this case we only have one leg) and the departure $v_\\infty$ in km/sec"
   ]
  },
  {
   "cell_type": "code",
   "execution_count": 7,
   "metadata": {
    "collapsed": false,
    "jupyter": {
     "outputs_hidden": false
    }
   },
   "outputs": [
    {
     "name": "stdout",
     "output_type": "stream",
     "text": [
      "[2010-Dec-14 00:00:00, 2027-May-19 00:00:00]\n"
     ]
    }
   ],
   "source": [
    "t0 = [epoch(4000), epoch(10000)]\n",
    "tof = [[60, 380]]\n",
    "vinf = [0,4]\n",
    "print(t0)"
   ]
  },
  {
   "cell_type": "markdown",
   "metadata": {},
   "source": [
    "We may now construct a global optimization problem representing out Earth-Mars transfer as a multiple gravity assist interplanetary trajectory allowing one *Deep Space Manouvre*. Of course, in this first simple case no gravity assist are present."
   ]
  },
  {
   "cell_type": "code",
   "execution_count": 27,
   "metadata": {
    "collapsed": false,
    "jupyter": {
     "outputs_hidden": false
    }
   },
   "outputs": [
    {
     "ename": "TypeError",
     "evalue": "plot() missing 1 required positional argument: 'x'",
     "output_type": "error",
     "traceback": [
      "\u001b[0;31m---------------------------------------------------------------------------\u001b[0m",
      "\u001b[0;31mTypeError\u001b[0m                                 Traceback (most recent call last)",
      "\u001b[0;32m<ipython-input-27-be88ba8d6b80>\u001b[0m in \u001b[0;36m<module>\u001b[0;34m\u001b[0m\n\u001b[1;32m      1\u001b[0m \u001b[0mprob\u001b[0m \u001b[0;34m=\u001b[0m \u001b[0mpk\u001b[0m\u001b[0;34m.\u001b[0m\u001b[0mtrajopt\u001b[0m\u001b[0;34m.\u001b[0m\u001b[0mmga_1dsm\u001b[0m\u001b[0;34m(\u001b[0m\u001b[0mseq\u001b[0m \u001b[0;34m=\u001b[0m \u001b[0mseq\u001b[0m\u001b[0;34m,\u001b[0m \u001b[0mt0\u001b[0m \u001b[0;34m=\u001b[0m \u001b[0mt0\u001b[0m\u001b[0;34m,\u001b[0m \u001b[0mtof\u001b[0m \u001b[0;34m=\u001b[0m \u001b[0mtof\u001b[0m\u001b[0;34m,\u001b[0m \u001b[0mvinf\u001b[0m \u001b[0;34m=\u001b[0m \u001b[0mvinf\u001b[0m\u001b[0;34m)\u001b[0m\u001b[0;34m\u001b[0m\u001b[0;34m\u001b[0m\u001b[0m\n\u001b[1;32m      2\u001b[0m \u001b[0;34m\u001b[0m\u001b[0m\n\u001b[0;32m----> 3\u001b[0;31m \u001b[0mprob\u001b[0m\u001b[0;34m.\u001b[0m\u001b[0mplot\u001b[0m\u001b[0;34m(\u001b[0m\u001b[0;34m)\u001b[0m\u001b[0;34m\u001b[0m\u001b[0;34m\u001b[0m\u001b[0m\n\u001b[0m",
      "\u001b[0;31mTypeError\u001b[0m: plot() missing 1 required positional argument: 'x'"
     ]
    }
   ],
   "source": [
    "prob = pk.trajopt.mga_1dsm(seq = seq, t0 = t0, tof = tof, vinf = vinf)"
   ]
  },
  {
   "cell_type": "markdown",
   "metadata": {},
   "source": [
    "Let us have a look to a randomly generated solution."
   ]
  },
  {
   "cell_type": "code",
   "execution_count": 32,
   "metadata": {
    "collapsed": false,
    "jupyter": {
     "outputs_hidden": false
    }
   },
   "outputs": [
    {
     "data": {
      "text/plain": [
       "Problem name: <class 'pykep.trajopt._mga_1dsm.mga_1dsm'>\n",
       "\tGlobal dimension:\t\t\t6\n",
       "\tInteger dimension:\t\t\t0\n",
       "\tFitness dimension:\t\t\t1\n",
       "\tNumber of objectives:\t\t\t1\n",
       "\tEquality constraints dimension:\t\t0\n",
       "\tInequality constraints dimension:\t0\n",
       "\tLower bounds: [4000, 0, 0, 0, 0.1, ... ]\n",
       "\tUpper bounds: [10000, 1, 1, 4000, 0.9, ... ]\n",
       "\tHas batch fitness evaluation: false\n",
       "\n",
       "\tHas gradient: false\n",
       "\tUser implemented gradient sparsity: false\n",
       "\tHas hessians: false\n",
       "\tUser implemented hessians sparsity: false\n",
       "\n",
       "\tFitness evaluations: 1\n",
       "\n",
       "\tThread safety: none\n",
       "\n",
       "Extra info:\n",
       "\n",
       "\t Sequence: ['earth', 'mars']\n",
       "\t Add launcher vinf to the objective?: False\n",
       "\t Add final vinf to the objective?: True\n",
       "Population size: 1\n",
       "\n",
       "List of individuals: \n",
       "#0:\n",
       "\tID:\t\t\t14324047078253922968\n",
       "\tDecision vector:\t[9278.63, 0.0296254, 0.648863, 2481.55, 0.339686, ... ]\n",
       "\tFitness vector:\t\t[123765]\n",
       "\n",
       "Champion decision vector: [9278.63, 0.0296254, 0.648863, 2481.55, 0.339686, ... ]\n",
       "Champion fitness: [123765]"
      ]
     },
     "execution_count": 32,
     "metadata": {},
     "output_type": "execute_result"
    }
   ],
   "source": [
    "pop = pg.population(prob, 1)\n",
    "pop"
   ]
  },
  {
   "cell_type": "code",
   "execution_count": 40,
   "metadata": {},
   "outputs": [
    {
     "name": "stdout",
     "output_type": "stream",
     "text": [
      "First Leg: earth to mars\n",
      "Departure: 2025-May-27 15:00:53.538008 (9278.625619652867 mjd2000) \n",
      "Duration: 96.45949619387044days\n",
      "VINF: 2.481546987848147 km/sec\n",
      "DSM after 32.765935636973936 days\n",
      "DSM magnitude: 64689.16329880882m/s\n",
      "\n",
      "Arrival at mars\n",
      "Arrival epoch: 2025-Sep-01 02:02:34.009158 (9375.085115846738 mjd2000) \n",
      "Arrival Vinf: 59075.99994404271m/s\n",
      "Total mission time: 0.2640917075807541 years (96.45949619387044 days)\n",
      "None\n"
     ]
    }
   ],
   "source": [
    "print(prob.pretty(pop.champion_x))"
   ]
  },
  {
   "cell_type": "code",
   "execution_count": 42,
   "metadata": {},
   "outputs": [
    {
     "ename": "TypeError",
     "evalue": "'bool' object is not subscriptable",
     "output_type": "error",
     "traceback": [
      "\u001b[0;31m---------------------------------------------------------------------------\u001b[0m",
      "\u001b[0;31mTypeError\u001b[0m                                 Traceback (most recent call last)",
      "\u001b[0;32m<ipython-input-42-de5125964208>\u001b[0m in \u001b[0;36m<module>\u001b[0;34m\u001b[0m\n\u001b[0;32m----> 1\u001b[0;31m \u001b[0mprob\u001b[0m\u001b[0;34m.\u001b[0m\u001b[0mplot\u001b[0m\u001b[0;34m(\u001b[0m\u001b[0mx\u001b[0m \u001b[0;34m=\u001b[0m \u001b[0mpop\u001b[0m\u001b[0;34m.\u001b[0m\u001b[0mchampion_x\u001b[0m\u001b[0;34m)\u001b[0m\u001b[0;34m\u001b[0m\u001b[0;34m\u001b[0m\u001b[0m\n\u001b[0m",
      "\u001b[0;32m~/opt/anaconda3/envs/mars_plots/lib/python3.8/site-packages/pykep/trajopt/_mga_1dsm.py\u001b[0m in \u001b[0;36mplot\u001b[0;34m(self, x, ax)\u001b[0m\n\u001b[1;32m    397\u001b[0m             \u001b[0mt_P\u001b[0m\u001b[0;34m[\u001b[0m\u001b[0mi\u001b[0m\u001b[0;34m]\u001b[0m \u001b[0;34m=\u001b[0m \u001b[0mepoch\u001b[0m\u001b[0;34m(\u001b[0m\u001b[0mx\u001b[0m\u001b[0;34m[\u001b[0m\u001b[0;36m0\u001b[0m\u001b[0;34m]\u001b[0m \u001b[0;34m+\u001b[0m \u001b[0msum\u001b[0m\u001b[0;34m(\u001b[0m\u001b[0mT\u001b[0m\u001b[0;34m[\u001b[0m\u001b[0;36m0\u001b[0m\u001b[0;34m:\u001b[0m\u001b[0mi\u001b[0m\u001b[0;34m]\u001b[0m\u001b[0;34m)\u001b[0m\u001b[0;34m)\u001b[0m\u001b[0;34m\u001b[0m\u001b[0;34m\u001b[0m\u001b[0m\n\u001b[1;32m    398\u001b[0m             \u001b[0mr_P\u001b[0m\u001b[0;34m[\u001b[0m\u001b[0mi\u001b[0m\u001b[0;34m]\u001b[0m\u001b[0;34m,\u001b[0m \u001b[0mv_P\u001b[0m\u001b[0;34m[\u001b[0m\u001b[0mi\u001b[0m\u001b[0;34m]\u001b[0m \u001b[0;34m=\u001b[0m \u001b[0mplanet\u001b[0m\u001b[0;34m.\u001b[0m\u001b[0meph\u001b[0m\u001b[0;34m(\u001b[0m\u001b[0mt_P\u001b[0m\u001b[0;34m[\u001b[0m\u001b[0mi\u001b[0m\u001b[0;34m]\u001b[0m\u001b[0;34m)\u001b[0m\u001b[0;34m\u001b[0m\u001b[0;34m\u001b[0m\u001b[0m\n\u001b[0;32m--> 399\u001b[0;31m             plot_planet(planet, t0=t_P[i], color=(\n\u001b[0m\u001b[1;32m    400\u001b[0m                 0.8, 0.6, 0.8), legend=True, units=AU, axes=axis, N=150)\n\u001b[1;32m    401\u001b[0m \u001b[0;34m\u001b[0m\u001b[0m\n",
      "\u001b[0;32m~/opt/anaconda3/envs/mars_plots/lib/python3.8/site-packages/pykep/orbit_plots/_plots.py\u001b[0m in \u001b[0;36mplot_planet\u001b[0;34m(plnt, t0, N, units, color, alpha, s, legend, axes)\u001b[0m\n\u001b[1;32m     70\u001b[0m \u001b[0;34m\u001b[0m\u001b[0m\n\u001b[1;32m     71\u001b[0m     \u001b[0;31m# Actual plot commands\u001b[0m\u001b[0;34m\u001b[0m\u001b[0;34m\u001b[0m\u001b[0;34m\u001b[0m\u001b[0m\n\u001b[0;32m---> 72\u001b[0;31m     \u001b[0;32mif\u001b[0m \u001b[0;34m(\u001b[0m\u001b[0mlegend\u001b[0m\u001b[0;34m[\u001b[0m\u001b[0;36m0\u001b[0m\u001b[0;34m]\u001b[0m \u001b[0;32mis\u001b[0m \u001b[0;32mTrue\u001b[0m\u001b[0;34m)\u001b[0m\u001b[0;34m:\u001b[0m\u001b[0;34m\u001b[0m\u001b[0;34m\u001b[0m\u001b[0m\n\u001b[0m\u001b[1;32m     73\u001b[0m         \u001b[0mlabel1\u001b[0m \u001b[0;34m=\u001b[0m \u001b[0mplnt\u001b[0m\u001b[0;34m.\u001b[0m\u001b[0mname\u001b[0m \u001b[0;34m+\u001b[0m \u001b[0;34m\" \"\u001b[0m \u001b[0;34m+\u001b[0m \u001b[0mt0\u001b[0m\u001b[0;34m.\u001b[0m\u001b[0m__repr__\u001b[0m\u001b[0;34m(\u001b[0m\u001b[0;34m)\u001b[0m\u001b[0;34m[\u001b[0m\u001b[0;36m0\u001b[0m\u001b[0;34m:\u001b[0m\u001b[0;36m11\u001b[0m\u001b[0;34m]\u001b[0m\u001b[0;34m\u001b[0m\u001b[0;34m\u001b[0m\u001b[0m\n\u001b[1;32m     74\u001b[0m     \u001b[0;32melif\u001b[0m \u001b[0;34m(\u001b[0m\u001b[0mlegend\u001b[0m\u001b[0;34m[\u001b[0m\u001b[0;36m0\u001b[0m\u001b[0;34m]\u001b[0m \u001b[0;32mis\u001b[0m \u001b[0;32mFalse\u001b[0m\u001b[0;34m)\u001b[0m\u001b[0;34m:\u001b[0m\u001b[0;34m\u001b[0m\u001b[0;34m\u001b[0m\u001b[0m\n",
      "\u001b[0;31mTypeError\u001b[0m: 'bool' object is not subscriptable"
     ]
    },
    {
     "data": {
      "image/png": "[encoded data removed]",
      "text/plain": [
       "<Figure size 432x288 with 1 Axes>"
      ]
     },
     "metadata": {
      "needs_background": "light"
     },
     "output_type": "display_data"
    }
   ],
   "source": [
    "prob.plot(x = pop.champion_x)"
   ]
  },
  {
   "cell_type": "markdown",
   "metadata": {},
   "source": [
    "And let us know *evolve* a good solution and inspect it "
   ]
  },
  {
   "cell_type": "code",
   "execution_count": 45,
   "metadata": {
    "collapsed": false,
    "jupyter": {
     "outputs_hidden": false
    }
   },
   "outputs": [
    {
     "ename": "AttributeError",
     "evalue": "type object 'pygmo.core.algorithm' has no attribute 'cmaes'",
     "output_type": "error",
     "traceback": [
      "\u001b[0;31m---------------------------------------------------------------------------\u001b[0m",
      "\u001b[0;31mAttributeError\u001b[0m                            Traceback (most recent call last)",
      "\u001b[0;32m<ipython-input-45-2f02e6c93fe0>\u001b[0m in \u001b[0;36m<module>\u001b[0;34m\u001b[0m\n\u001b[0;32m----> 1\u001b[0;31m \u001b[0malgo\u001b[0m \u001b[0;34m=\u001b[0m \u001b[0malgorithm\u001b[0m\u001b[0;34m.\u001b[0m\u001b[0mcmaes\u001b[0m\u001b[0;34m(\u001b[0m\u001b[0mgen\u001b[0m \u001b[0;34m=\u001b[0m \u001b[0;36m2500\u001b[0m\u001b[0;34m)\u001b[0m\u001b[0;34m\u001b[0m\u001b[0;34m\u001b[0m\u001b[0m\n\u001b[0m\u001b[1;32m      2\u001b[0m \u001b[0ml\u001b[0m \u001b[0;34m=\u001b[0m \u001b[0mlist\u001b[0m\u001b[0;34m(\u001b[0m\u001b[0;34m)\u001b[0m\u001b[0;34m\u001b[0m\u001b[0;34m\u001b[0m\u001b[0m\n\u001b[1;32m      3\u001b[0m \u001b[0;32mfor\u001b[0m \u001b[0mi\u001b[0m \u001b[0;32min\u001b[0m \u001b[0mrange\u001b[0m\u001b[0;34m(\u001b[0m\u001b[0;36m10\u001b[0m\u001b[0;34m)\u001b[0m\u001b[0;34m:\u001b[0m\u001b[0;34m\u001b[0m\u001b[0;34m\u001b[0m\u001b[0m\n\u001b[1;32m      4\u001b[0m     \u001b[0mpop\u001b[0m \u001b[0;34m=\u001b[0m \u001b[0mpopulation\u001b[0m\u001b[0;34m(\u001b[0m\u001b[0mprob\u001b[0m\u001b[0;34m,\u001b[0m\u001b[0;36m100\u001b[0m\u001b[0;34m)\u001b[0m\u001b[0;34m\u001b[0m\u001b[0;34m\u001b[0m\u001b[0m\n\u001b[1;32m      5\u001b[0m     \u001b[0mpop\u001b[0m \u001b[0;34m=\u001b[0m \u001b[0malgo\u001b[0m\u001b[0;34m.\u001b[0m\u001b[0mevolve\u001b[0m\u001b[0;34m(\u001b[0m\u001b[0mpop\u001b[0m\u001b[0;34m)\u001b[0m\u001b[0;34m\u001b[0m\u001b[0;34m\u001b[0m\u001b[0m\n",
      "\u001b[0;31mAttributeError\u001b[0m: type object 'pygmo.core.algorithm' has no attribute 'cmaes'"
     ]
    }
   ],
   "source": [
    "algo = algorithm.cmaes(gen = 2500)\n",
    "l = list()\n",
    "for i in range(10):\n",
    "    pop = population(prob,100)\n",
    "    pop = algo.evolve(pop)\n",
    "    print(pop.champion_f)\n",
    "    l.append(pop.champion)\n",
    "l = sorted(l, key =  lambda x: x.f[0])"
   ]
  },
  {
   "cell_type": "code",
   "execution_count": 40,
   "metadata": {
    "collapsed": false,
    "jupyter": {
     "outputs_hidden": false
    }
   },
   "outputs": [
    {
     "name": "stdout",
     "output_type": "stream",
     "text": [
      "First Leg: earth to mars\n",
      "Departure: 2024-Sep-20 10:22:43.784225 (9.029432451206307e+03 mjd2000)\n",
      "Duration: 3.327753367191272e+02 days\n",
      "VINF: 3.561063522238222e+00 km/sec\n",
      "DSM after 2.308755346759484e+02 days\n",
      "DSM magnitude: 2.136138099438201e+00 m/s\n",
      "\n",
      "Arrival at mars\n",
      "Arrival epoch: 2025-Aug-19 04:59:12.876757 (9.362207787925434e+03 mjd2000) \n",
      "Arrival Vinf: 2.415451536795122e+03m/s\n",
      "Total mission time: 9.110892175746125e-01 years\n",
      "\n"
     ]
    }
   ],
   "source": [
    "print prob.pretty(l[0].x)\n",
    "prob.plot(l[0].x)\n",
    "plt.show()"
   ]
  },
  {
   "cell_type": "markdown",
   "metadata": {},
   "source": [
    "### Using a fly-by sequence\n",
    "***"
   ]
  },
  {
   "cell_type": "markdown",
   "metadata": {},
   "source": [
    "We now study the possibility to get to Mars adding a few fly-bys before. We consider the case of an Earth-Venus-Earth-Mars sequence. In the case of a Mars mission this is not going to improve our direct transfer that only requires an arrival $\\Delta V$ that could only be decreased by a free $\\Delta$ in a point in between the Earth and Mars. Our fly-bys will add the possibility of having a free $\\Delta V$ at the Earth and Venus positions. Thus we expect to be *at most* able to get a $\\Delta$ V with a similar value as the direct transfer. We start defining the sequence:"
   ]
  },
  {
   "cell_type": "code",
   "execution_count": 8,
   "metadata": {
    "collapsed": false,
    "jupyter": {
     "outputs_hidden": false
    }
   },
   "outputs": [],
   "source": [
    "seq = [planet_ss('earth'), planet_ss('venus'), planet_ss('earth'), planet_ss('mars')]"
   ]
  },
  {
   "cell_type": "markdown",
   "metadata": {},
   "source": [
    "We then enlarge the launch window as to remove possible planetary bad-phasing problems:"
   ]
  },
  {
   "cell_type": "code",
   "execution_count": 22,
   "metadata": {
    "collapsed": false,
    "jupyter": {
     "outputs_hidden": false
    }
   },
   "outputs": [],
   "source": [
    "t0 = [epoch(1000), epoch(10000)]\n",
    "tof = [[1, 680],[1,600],[1,600]]"
   ]
  },
  {
   "cell_type": "markdown",
   "metadata": {},
   "source": [
    "And we instantiate/inspect the new global optimization problem:"
   ]
  },
  {
   "cell_type": "code",
   "execution_count": 23,
   "metadata": {
    "collapsed": false,
    "jupyter": {
     "outputs_hidden": false
    }
   },
   "outputs": [
    {
     "name": "stdout",
     "output_type": "stream",
     "text": [
      "Problem name: MGA-1DSM (tof-encoding)\n",
      "\tGlobal dimension:\t\t\t14\n",
      "\tInteger dimension:\t\t\t0\n",
      "\tFitness dimension:\t\t\t1\n",
      "\tConstraints dimension:\t\t\t0\n",
      "\tInequality constraints dimension:\t0\n",
      "\tLower bounds: [1000, 0, 0, 0, 1.0000000000000001e-05, 1, -6.2831853071795862, 1.1000000000000001, 1.0000000000000001e-05, 1, -6.2831853071795862, 1.1000000000000001, 1.0000000000000001e-05, 1]\n",
      "\tUpper bounds: [10000, 1, 1, 4000, 0.99999000000000005, 680, 6.2831853071795862, 100, 0.99999000000000005, 600, 6.2831853071795862, 100, 0.99999000000000005, 600]\n",
      "\tConstraints tolerance: []\n",
      "\n",
      "\tSequence: earth venus earth mars \n",
      "\tAdd launcher vinf to the objective?:  False\n",
      "\n",
      "\tAdd arrival vinf to the objective?:  True\n",
      "\n"
     ]
    }
   ],
   "source": [
    "prob = problem.mga_1dsm_tof(seq=seq, t0 = t0, tof = tof, vinf = vinf)\n",
    "print prob"
   ]
  },
  {
   "cell_type": "markdown",
   "metadata": {},
   "source": [
    "We generate a random solution and inspect it."
   ]
  },
  {
   "cell_type": "code",
   "execution_count": 24,
   "metadata": {
    "collapsed": false,
    "jupyter": {
     "outputs_hidden": false
    }
   },
   "outputs": [
    {
     "name": "stdout",
     "output_type": "stream",
     "text": [
      "First Leg: earth to venus\n",
      "Departure: 2027-Jan-11 01:57:10.936710 (9.872081376582297e+03 mjd2000)\n",
      "Duration: 3.032767768467365e+02 days\n",
      "VINF: 7.571529969448392e-01 km/sec\n",
      "DSM after 1.138947852550864e+02 days\n",
      "DSM magnitude: 2.260138204381752e+04 m/s\n",
      "\n",
      "leg no: 2: venus to earth\n",
      "Duration: 3.419180836369978e+02 days\n",
      "Fly-by epoch: 2027-Nov-10 08:35:44.456268 (1.017535815342903e+04 mjd2000) \n",
      "Fly-by radius: 9.057796724661786e+01 planetary radii\n",
      "DSM after 2.491051181297873e+02 days\n",
      "DSM magnitude: 2.250681053395309e+04m/s\n",
      "\n",
      "leg no: 3: earth to mars\n",
      "Duration: 5.404313385431311e+02 days\n",
      "Fly-by epoch: 2028-Oct-17 06:37:46.882505 (1.051727623706603e+04 mjd2000) \n",
      "Fly-by radius: 2.877536933107061e+01 planetary radii\n",
      "DSM after 1.714083277252185e+02 days\n",
      "DSM magnitude: 5.052486027874133e+03m/s\n",
      "\n",
      "Arrival at mars\n",
      "Arrival epoch: 2030-Apr-10 16:58:54.532631 (1.105770757560916e+04 mjd2000) \n",
      "Arrival Vinf: 3.081299175855881e+03m/s\n",
      "Total mission time: 3.246067622250145e+00 years\n",
      "\n"
     ]
    }
   ],
   "source": [
    "pop = population(prob,1)\n",
    "ax = prob.plot(pop.champion.x)\n",
    "plt.show()\n",
    "print prob.pretty(pop.champion.x)"
   ]
  },
  {
   "cell_type": "markdown",
   "metadata": {},
   "source": [
    "We then try to apply the same method we used before to solve this problem. This produces extremely bad results, is this because the problem does not admit good solutions? Or is it because we are failing to find them. Problem knowledge and intuition here come to our help as we have already argued how there should be a solution with a value close to the direct transfer one (e.g. 2700 m/s) ...... "
   ]
  },
  {
   "cell_type": "code",
   "execution_count": 25,
   "metadata": {
    "collapsed": false,
    "jupyter": {
     "outputs_hidden": false
    }
   },
   "outputs": [
    {
     "name": "stdout",
     "output_type": "stream",
     "text": [
      "(8453.547475197316,)\n",
      "(9490.45888802245,)\n",
      "(6547.319843557206,)\n",
      "(8289.747068003235,)\n",
      "(8052.926083007214,)\n",
      "(9351.880168089048,)\n",
      "(8275.782071751917,)\n",
      "(8477.156670516702,)\n",
      "(8953.464361256694,)\n",
      "(8662.765843838928,)\n"
     ]
    }
   ],
   "source": [
    "algo = algorithm.jde(gen = 500)\n",
    "l = list()\n",
    "for i in range(10):\n",
    "    pop = population(prob,20)\n",
    "    pop = algo.evolve(pop)\n",
    "    print pop.champion.f\n",
    "    l.append(pop.champion)"
   ]
  },
  {
   "cell_type": "markdown",
   "metadata": {},
   "source": [
    ".... so we try to deploy a better solution technique (in this case island model)"
   ]
  },
  {
   "cell_type": "code",
   "execution_count": 26,
   "metadata": {
    "collapsed": false,
    "jupyter": {
     "outputs_hidden": false
    }
   },
   "outputs": [
    {
     "name": "stdout",
     "output_type": "stream",
     "text": [
      "5240.03072874\n",
      "5901.94701984\n",
      "6310.81213914\n",
      "5565.13895235\n",
      "6458.97980764\n",
      "5794.64392231\n",
      "5232.20519373\n",
      "5905.92094852\n",
      "5691.85917068\n",
      "4718.51337834\n"
     ]
    }
   ],
   "source": [
    "l = list()\n",
    "algo = algorithm.jde(gen = 200)\n",
    "for i in range(10):\n",
    "    archi = archipelago(algo,prob,8,20)\n",
    "    archi.evolve(15)\n",
    "    best_island = sorted(archi, key=lambda x: x.population.champion.f[0])[0]\n",
    "    l.append(best_island.population.champion)\n",
    "    print best_island.population.champion.f[0]\n",
    "l = sorted(l, key =  lambda x: x.f[0])"
   ]
  },
  {
   "cell_type": "markdown",
   "metadata": {},
   "source": [
    "Things have improved, but are still far from what we expect .... we thus inspect the best found trajectory"
   ]
  },
  {
   "cell_type": "code",
   "execution_count": 27,
   "metadata": {
    "collapsed": false,
    "jupyter": {
     "outputs_hidden": false
    }
   },
   "outputs": [
    {
     "name": "stdout",
     "output_type": "stream",
     "text": [
      "First Leg: earth to venus\n",
      "Departure: 2023-Feb-26 01:07:47.484082 (8.457047077362062e+03 mjd2000)\n",
      "Duration: 2.159364502390903e+02 days\n",
      "VINF: 3.911115332990846e+00 km/sec\n",
      "DSM after 4.163826895261372e+01 days\n",
      "DSM magnitude: 9.988253894207539e+02 m/s\n",
      "\n",
      "leg no: 2: venus to earth\n",
      "Duration: 3.004838777034002e+02 days\n",
      "Fly-by epoch: 2023-Sep-29 23:36:16.784740 (8.672983527601153e+03 mjd2000) \n",
      "Fly-by radius: 9.683079424915841e+00 planetary radii\n",
      "DSM after 9.465543435092810e+01 days\n",
      "DSM magnitude: 9.738051892225533e+02m/s\n",
      "\n",
      "leg no: 3: earth to mars\n",
      "Duration: 3.354808740432044e+02 days\n",
      "Fly-by epoch: 2024-Jul-26 11:13:03.818313 (8.973467405304553e+03 mjd2000) \n",
      "Fly-by radius: 4.937323948842165e+00 planetary radii\n",
      "DSM after 6.607070682645072e+01 days\n",
      "DSM magnitude: 8.542225034084930e+01m/s\n",
      "\n",
      "Arrival at mars\n",
      "Arrival epoch: 2025-Jun-26 22:45:31.335646 (9.308948279347756e+03 mjd2000) \n",
      "Arrival Vinf: 2.660460549359369e+03m/s\n",
      "Total mission time: 2.332378376415318e+00 years\n",
      "\n"
     ]
    }
   ],
   "source": [
    "print prob.pretty(l[0].x)"
   ]
  },
  {
   "cell_type": "markdown",
   "metadata": {},
   "source": [
    "And we run again the optimization restricting the search space around this solution (i.e. having a launch date around 8500 MJD2000, you may have a different solution to the one we obtained, in which case explore that launch window instead)"
   ]
  },
  {
   "cell_type": "code",
   "execution_count": 15,
   "metadata": {
    "collapsed": false,
    "jupyter": {
     "outputs_hidden": false
    }
   },
   "outputs": [
    {
     "name": "stdout",
     "output_type": "stream",
     "text": [
      "2877.64868378\n",
      "2901.13187256\n",
      "2875.83115394\n",
      "2874.6387355\n",
      "2876.60406836\n",
      "2929.29816465\n",
      "2881.95827612\n",
      "2877.6079692\n",
      "2875.7684513\n",
      "2876.19107968\n"
     ]
    }
   ],
   "source": [
    "t0 = [epoch(8400), epoch(8800)]\n",
    "tof = [[1, 300],[1,400],[1,400]]\n",
    "prob = problem.mga_1dsm_tof(seq=seq, t0 = t0, tof = tof, vinf = vinf)\n",
    "l = list()\n",
    "algo = algorithm.jde(gen = 200)\n",
    "for i in range(10):\n",
    "    archi = archipelago(algo,prob,8,20)\n",
    "    archi.evolve(15)\n",
    "    best_island = sorted(archi, key=lambda x: x.population.champion.f[0])[0]\n",
    "    l.append(best_island.population.champion)\n",
    "    print best_island.population.champion.f[0]\n",
    "l = sorted(l, key =  lambda x: x.f[0])"
   ]
  },
  {
   "cell_type": "markdown",
   "metadata": {},
   "source": [
    "Much better ... with respect to the 2704 m/s $\\Delta V$ that we were expecting we are sufficiently close. The difference (170 m/s) can now be explained as a difference in the arrival date (e.g. in order to find Earth and Venus phased correctly and thus allow the fly-by mission, the Mars arrival conditions have changed for worse). We inspect the solution seeing how it does not make use of deep space manouvres."
   ]
  },
  {
   "cell_type": "code",
   "execution_count": 16,
   "metadata": {
    "collapsed": false,
    "jupyter": {
     "outputs_hidden": false
    }
   },
   "outputs": [
    {
     "name": "stdout",
     "output_type": "stream",
     "text": [
      "First Leg: earth to venus\n",
      "Departure: 2023-Mar-26 01:00:41.152027 (8.485042142963275e+03 mjd2000)\n",
      "Duration: 1.904545053472411e+02 days\n",
      "VINF: 3.997575495571410e+00 km/sec\n",
      "DSM after 5.074001021125163e+01 days\n",
      "DSM magnitude: 3.996852717477555e-02 m/s\n",
      "\n",
      "leg no: 2: venus to earth\n",
      "Duration: 2.787609387282590e+02 days\n",
      "Fly-by epoch: 2023-Oct-02 11:55:10.414029 (8.675496648310516e+03 mjd2000) \n",
      "Fly-by radius: 5.143331598736910e+00 planetary radii\n",
      "DSM after 1.657238914891040e+01 days\n",
      "DSM magnitude: 5.143170590255228e-02m/s\n",
      "\n",
      "leg no: 3: earth to mars\n",
      "Duration: 3.248014995768976e+02 days\n",
      "Fly-by epoch: 2024-Jul-07 06:10:55.520150 (8.954257587038775e+03 mjd2000) \n",
      "Fly-by radius: 3.676532257750312e+00 planetary radii\n",
      "DSM after 1.864251994616333e+01 days\n",
      "DSM magnitude: 1.485124464150173e-02m/s\n",
      "\n",
      "Arrival at mars\n",
      "Arrival epoch: 2025-May-28 01:25:05.083594 (9.279059086615673e+03 mjd2000) \n",
      "Arrival Vinf: 2.874532484022688e+03m/s\n",
      "Total mission time: 2.173899914174942e+00 years\n",
      "\n"
     ]
    }
   ],
   "source": [
    "ax = prob.plot(l[0].x)\n",
    "plt.show()\n",
    "print prob.pretty(l[0].x)"
   ]
  }
 ],
 "metadata": {
  "kernelspec": {
   "display_name": "mars_plots",
   "language": "python",
   "name": "mars_plots"
  },
  "language_info": {
   "codemirror_mode": {
    "name": "ipython",
    "version": 3
   },
   "file_extension": ".py",
   "mimetype": "text/x-python",
   "name": "python",
   "nbconvert_exporter": "python",
   "pygments_lexer": "ipython3",
   "version": "3.8.2"
  }
 },
 "nbformat": 4,
 "nbformat_minor": 4
}
